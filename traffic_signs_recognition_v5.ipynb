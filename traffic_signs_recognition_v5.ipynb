{
 "cells": [
  {
   "cell_type": "code",
   "execution_count": 1,
   "id": "cc80d5d4",
   "metadata": {
    "_cell_guid": "b1076dfc-b9ad-4769-8c92-a6c4dae69d19",
    "_uuid": "8f2839f25d086af736a60e9eeb907d3b93b6e0e5",
    "execution": {
     "iopub.execute_input": "2022-04-04T08:16:10.268695Z",
     "iopub.status.busy": "2022-04-04T08:16:10.266754Z",
     "iopub.status.idle": "2022-04-04T08:16:16.332799Z",
     "shell.execute_reply": "2022-04-04T08:16:16.331990Z",
     "shell.execute_reply.started": "2021-12-10T06:38:47.303697Z"
    },
    "papermill": {
     "duration": 6.08904,
     "end_time": "2022-04-04T08:16:16.332986",
     "exception": false,
     "start_time": "2022-04-04T08:16:10.243946",
     "status": "completed"
    },
    "tags": []
   },
   "outputs": [],
   "source": [
    "import numpy as np \n",
    "import pandas as pd \n",
    "import matplotlib.pyplot as plt\n",
    "import cv2\n",
    "import tensorflow as tf\n",
    "from PIL import Image\n",
    "import os\n",
    "from sklearn.model_selection import train_test_split\n",
    "from keras.utils import to_categorical\n",
    "from keras.models import Sequential, load_model\n",
    "from keras.layers import Conv2D, MaxPool2D, Dense, Flatten, Dropout\n",
    "import keras"
   ]
  },
  {
   "cell_type": "code",
   "execution_count": 2,
   "id": "6b9dacfd",
   "metadata": {
    "execution": {
     "iopub.execute_input": "2022-04-04T08:16:16.375738Z",
     "iopub.status.busy": "2022-04-04T08:16:16.374386Z",
     "iopub.status.idle": "2022-04-04T08:16:16.378933Z",
     "shell.execute_reply": "2022-04-04T08:16:16.379775Z",
     "shell.execute_reply.started": "2021-12-10T06:38:52.604013Z"
    },
    "papermill": {
     "duration": 0.029248,
     "end_time": "2022-04-04T08:16:16.380029",
     "exception": false,
     "start_time": "2022-04-04T08:16:16.350781",
     "status": "completed"
    },
    "tags": []
   },
   "outputs": [
    {
     "name": "stdout",
     "output_type": "stream",
     "text": [
      "/kaggle/working/Traffic/train\n"
     ]
    }
   ],
   "source": [
    "data = []\n",
    "labels = []\n",
    "classes = 43\n",
    "cur_path = os.getcwd()\n",
    "print(os.path.join(cur_path,'Traffic','train'))"
   ]
  },
  {
   "cell_type": "code",
   "execution_count": 3,
   "id": "15765300",
   "metadata": {
    "execution": {
     "iopub.execute_input": "2022-04-04T08:16:16.424379Z",
     "iopub.status.busy": "2022-04-04T08:16:16.423654Z",
     "iopub.status.idle": "2022-04-04T08:18:19.173421Z",
     "shell.execute_reply": "2022-04-04T08:18:19.173984Z",
     "shell.execute_reply.started": "2021-12-10T06:38:52.614445Z"
    },
    "papermill": {
     "duration": 122.774321,
     "end_time": "2022-04-04T08:18:19.174223",
     "exception": false,
     "start_time": "2022-04-04T08:16:16.399902",
     "status": "completed"
    },
    "tags": []
   },
   "outputs": [
    {
     "name": "stdout",
     "output_type": "stream",
     "text": [
      "39209\n"
     ]
    }
   ],
   "source": [
    "temp=0\n",
    "for i in range(classes):\n",
    "    path = os.path.join('../input/traffic-sign/traffic/Train',str(i))\n",
    "    \n",
    "    images = os.listdir(path)\n",
    "    \n",
    "    for a in images:\n",
    "        \n",
    "        try:\n",
    "            image = Image.open(path + '/'+ a)\n",
    "            \n",
    "            temp+=1\n",
    "            \n",
    "            image = image.resize((30,30))\n",
    "            \n",
    "            image = np.array(image)\n",
    "            data.append(image)\n",
    "            labels.append(i)\n",
    "           \n",
    "        except:\n",
    "            print(\"Error loading image\")\n",
    "print(temp)"
   ]
  },
  {
   "cell_type": "code",
   "execution_count": null,
   "id": "3a403619",
   "metadata": {
    "papermill": {
     "duration": 0.018537,
     "end_time": "2022-04-04T08:18:19.210540",
     "exception": false,
     "start_time": "2022-04-04T08:18:19.192003",
     "status": "completed"
    },
    "tags": []
   },
   "outputs": [],
   "source": []
  },
  {
   "cell_type": "code",
   "execution_count": 4,
   "id": "355eda10",
   "metadata": {
    "execution": {
     "iopub.execute_input": "2022-04-04T08:18:19.254788Z",
     "iopub.status.busy": "2022-04-04T08:18:19.253586Z",
     "iopub.status.idle": "2022-04-04T08:18:19.348918Z",
     "shell.execute_reply": "2022-04-04T08:18:19.349446Z",
     "shell.execute_reply.started": "2021-12-10T06:43:00.454Z"
    },
    "papermill": {
     "duration": 0.1207,
     "end_time": "2022-04-04T08:18:19.349662",
     "exception": false,
     "start_time": "2022-04-04T08:18:19.228962",
     "status": "completed"
    },
    "tags": []
   },
   "outputs": [
    {
     "name": "stdout",
     "output_type": "stream",
     "text": [
      "(39209, 30, 30, 3) (39209,)\n"
     ]
    }
   ],
   "source": [
    "#Converting lists into numpy arrays\n",
    "data = np.array(data)\n",
    "labels = np.array(labels)\n",
    "\n",
    "print(data.shape, labels.shape)"
   ]
  },
  {
   "cell_type": "code",
   "execution_count": 5,
   "id": "78b48d4d",
   "metadata": {
    "execution": {
     "iopub.execute_input": "2022-04-04T08:18:19.395117Z",
     "iopub.status.busy": "2022-04-04T08:18:19.394270Z",
     "iopub.status.idle": "2022-04-04T08:18:19.445955Z",
     "shell.execute_reply": "2022-04-04T08:18:19.445403Z",
     "shell.execute_reply.started": "2021-12-10T06:43:00.542923Z"
    },
    "papermill": {
     "duration": 0.078507,
     "end_time": "2022-04-04T08:18:19.446098",
     "exception": false,
     "start_time": "2022-04-04T08:18:19.367591",
     "status": "completed"
    },
    "tags": []
   },
   "outputs": [
    {
     "name": "stdout",
     "output_type": "stream",
     "text": [
      "(31367, 30, 30, 3) (7842, 30, 30, 3) (31367,) (7842,)\n"
     ]
    }
   ],
   "source": [
    "#Splitting training and testing dataset\n",
    "X_train, X_test, y_train, y_test = train_test_split(data, labels, test_size=0.2, random_state=42)\n",
    "\n",
    "print(X_train.shape, X_test.shape, y_train.shape, y_test.shape)"
   ]
  },
  {
   "cell_type": "code",
   "execution_count": 6,
   "id": "b341222a",
   "metadata": {
    "execution": {
     "iopub.execute_input": "2022-04-04T08:18:19.486617Z",
     "iopub.status.busy": "2022-04-04T08:18:19.485543Z",
     "iopub.status.idle": "2022-04-04T08:18:19.491405Z",
     "shell.execute_reply": "2022-04-04T08:18:19.490841Z",
     "shell.execute_reply.started": "2021-12-10T06:43:00.589519Z"
    },
    "papermill": {
     "duration": 0.027351,
     "end_time": "2022-04-04T08:18:19.491531",
     "exception": false,
     "start_time": "2022-04-04T08:18:19.464180",
     "status": "completed"
    },
    "tags": []
   },
   "outputs": [],
   "source": [
    "#Converting the labels into one hot encoding\n",
    "y_train = to_categorical(y_train, 43)\n",
    "y_test = to_categorical(y_test, 43)"
   ]
  },
  {
   "cell_type": "code",
   "execution_count": 7,
   "id": "f5832ff6",
   "metadata": {
    "execution": {
     "iopub.execute_input": "2022-04-04T08:18:19.538416Z",
     "iopub.status.busy": "2022-04-04T08:18:19.537784Z",
     "iopub.status.idle": "2022-04-04T08:18:21.904018Z",
     "shell.execute_reply": "2022-04-04T08:18:21.903039Z",
     "shell.execute_reply.started": "2021-12-10T06:43:00.598059Z"
    },
    "papermill": {
     "duration": 2.394732,
     "end_time": "2022-04-04T08:18:21.904173",
     "exception": false,
     "start_time": "2022-04-04T08:18:19.509441",
     "status": "completed"
    },
    "tags": []
   },
   "outputs": [],
   "source": [
    "model = Sequential()\n",
    "model.add(Conv2D(filters=16, kernel_size=(5,5), activation='relu', padding='same', input_shape=X_train.shape[1:]))\n",
    "model.add(MaxPool2D(pool_size=(2, 2)))\n",
    "model.add(Dropout(rate=0.25))\n",
    "\n",
    "model.add(Conv2D(filters=32, kernel_size=(5, 5), activation='relu', padding='same'))\n",
    "model.add(MaxPool2D(pool_size=(2, 2)))\n",
    "model.add(Dropout(rate=0.25))\n",
    "\n",
    "model.add(Conv2D(filters=64, kernel_size=(5, 5), activation='relu', padding='same'))\n",
    "model.add(MaxPool2D(pool_size=(2, 2)))\n",
    "model.add(Dropout(rate=0.25))\n",
    "\n",
    "model.add(Conv2D(filters=128, kernel_size=(5, 5), activation='relu', padding='same'))\n",
    "model.add(MaxPool2D(pool_size=(2, 2)))\n",
    "model.add(Dropout(rate=0.25))\n",
    "\n",
    "model.add(Flatten())\n",
    "model.add(Dense(256, activation='relu'))\n",
    "model.add(Dropout(rate=0.5))\n",
    "model.add(Dense(43, activation='softmax'))"
   ]
  },
  {
   "cell_type": "code",
   "execution_count": 8,
   "id": "56df22de",
   "metadata": {
    "execution": {
     "iopub.execute_input": "2022-04-04T08:18:21.951238Z",
     "iopub.status.busy": "2022-04-04T08:18:21.948767Z",
     "iopub.status.idle": "2022-04-04T08:18:21.963840Z",
     "shell.execute_reply": "2022-04-04T08:18:21.963280Z",
     "shell.execute_reply.started": "2021-12-10T06:43:02.606348Z"
    },
    "papermill": {
     "duration": 0.040209,
     "end_time": "2022-04-04T08:18:21.963971",
     "exception": false,
     "start_time": "2022-04-04T08:18:21.923762",
     "status": "completed"
    },
    "tags": []
   },
   "outputs": [
    {
     "name": "stdout",
     "output_type": "stream",
     "text": [
      "Model: \"sequential\"\n",
      "_________________________________________________________________\n",
      "Layer (type)                 Output Shape              Param #   \n",
      "=================================================================\n",
      "conv2d (Conv2D)              (None, 30, 30, 16)        1216      \n",
      "_________________________________________________________________\n",
      "max_pooling2d (MaxPooling2D) (None, 15, 15, 16)        0         \n",
      "_________________________________________________________________\n",
      "dropout (Dropout)            (None, 15, 15, 16)        0         \n",
      "_________________________________________________________________\n",
      "conv2d_1 (Conv2D)            (None, 15, 15, 32)        12832     \n",
      "_________________________________________________________________\n",
      "max_pooling2d_1 (MaxPooling2 (None, 7, 7, 32)          0         \n",
      "_________________________________________________________________\n",
      "dropout_1 (Dropout)          (None, 7, 7, 32)          0         \n",
      "_________________________________________________________________\n",
      "conv2d_2 (Conv2D)            (None, 7, 7, 64)          51264     \n",
      "_________________________________________________________________\n",
      "max_pooling2d_2 (MaxPooling2 (None, 3, 3, 64)          0         \n",
      "_________________________________________________________________\n",
      "dropout_2 (Dropout)          (None, 3, 3, 64)          0         \n",
      "_________________________________________________________________\n",
      "conv2d_3 (Conv2D)            (None, 3, 3, 128)         204928    \n",
      "_________________________________________________________________\n",
      "max_pooling2d_3 (MaxPooling2 (None, 1, 1, 128)         0         \n",
      "_________________________________________________________________\n",
      "dropout_3 (Dropout)          (None, 1, 1, 128)         0         \n",
      "_________________________________________________________________\n",
      "flatten (Flatten)            (None, 128)               0         \n",
      "_________________________________________________________________\n",
      "dense (Dense)                (None, 256)               33024     \n",
      "_________________________________________________________________\n",
      "dropout_4 (Dropout)          (None, 256)               0         \n",
      "_________________________________________________________________\n",
      "dense_1 (Dense)              (None, 43)                11051     \n",
      "=================================================================\n",
      "Total params: 314,315\n",
      "Trainable params: 314,315\n",
      "Non-trainable params: 0\n",
      "_________________________________________________________________\n"
     ]
    }
   ],
   "source": [
    "model.summary()"
   ]
  },
  {
   "cell_type": "code",
   "execution_count": 9,
   "id": "e6ddb26f",
   "metadata": {
    "execution": {
     "iopub.execute_input": "2022-04-04T08:18:22.015678Z",
     "iopub.status.busy": "2022-04-04T08:18:22.014603Z",
     "iopub.status.idle": "2022-04-04T08:20:29.529778Z",
     "shell.execute_reply": "2022-04-04T08:20:29.528774Z",
     "shell.execute_reply.started": "2021-12-10T06:43:02.621837Z"
    },
    "papermill": {
     "duration": 127.546773,
     "end_time": "2022-04-04T08:20:29.529936",
     "exception": false,
     "start_time": "2022-04-04T08:18:21.983163",
     "status": "completed"
    },
    "tags": []
   },
   "outputs": [
    {
     "name": "stdout",
     "output_type": "stream",
     "text": [
      "Epoch 1/40\n",
      "491/491 [==============================] - 11s 7ms/step - loss: 6.0306 - accuracy: 0.0539 - val_loss: 2.8479 - val_accuracy: 0.2618\n",
      "Epoch 2/40\n",
      "491/491 [==============================] - 3s 6ms/step - loss: 2.6893 - accuracy: 0.2578 - val_loss: 1.7720 - val_accuracy: 0.4412\n",
      "Epoch 3/40\n",
      "491/491 [==============================] - 3s 6ms/step - loss: 1.9784 - accuracy: 0.3909 - val_loss: 1.4640 - val_accuracy: 0.5108\n",
      "Epoch 4/40\n",
      "491/491 [==============================] - 3s 6ms/step - loss: 1.6749 - accuracy: 0.4546 - val_loss: 1.1573 - val_accuracy: 0.6086\n",
      "Epoch 5/40\n",
      "491/491 [==============================] - 3s 6ms/step - loss: 1.4278 - accuracy: 0.5358 - val_loss: 0.8572 - val_accuracy: 0.7326\n",
      "Epoch 6/40\n",
      "491/491 [==============================] - 3s 6ms/step - loss: 1.1934 - accuracy: 0.6131 - val_loss: 0.6441 - val_accuracy: 0.8004\n",
      "Epoch 7/40\n",
      "491/491 [==============================] - 3s 6ms/step - loss: 1.0016 - accuracy: 0.6810 - val_loss: 0.4938 - val_accuracy: 0.8525\n",
      "Epoch 8/40\n",
      "491/491 [==============================] - 3s 6ms/step - loss: 0.8932 - accuracy: 0.7242 - val_loss: 0.3903 - val_accuracy: 0.8828\n",
      "Epoch 9/40\n",
      "491/491 [==============================] - 3s 6ms/step - loss: 0.7902 - accuracy: 0.7602 - val_loss: 0.4064 - val_accuracy: 0.8903\n",
      "Epoch 10/40\n",
      "491/491 [==============================] - 3s 6ms/step - loss: 0.6820 - accuracy: 0.7903 - val_loss: 0.3067 - val_accuracy: 0.9179\n",
      "Epoch 11/40\n",
      "491/491 [==============================] - 4s 7ms/step - loss: 0.6832 - accuracy: 0.7940 - val_loss: 0.2928 - val_accuracy: 0.9147\n",
      "Epoch 12/40\n",
      "491/491 [==============================] - 3s 6ms/step - loss: 0.6357 - accuracy: 0.8112 - val_loss: 0.2089 - val_accuracy: 0.9346\n",
      "Epoch 13/40\n",
      "491/491 [==============================] - 3s 6ms/step - loss: 0.5898 - accuracy: 0.8247 - val_loss: 0.2049 - val_accuracy: 0.9439\n",
      "Epoch 14/40\n",
      "491/491 [==============================] - 3s 6ms/step - loss: 0.5659 - accuracy: 0.8366 - val_loss: 0.1976 - val_accuracy: 0.9383\n",
      "Epoch 15/40\n",
      "491/491 [==============================] - 3s 6ms/step - loss: 0.5606 - accuracy: 0.8390 - val_loss: 0.1679 - val_accuracy: 0.9491\n",
      "Epoch 16/40\n",
      "491/491 [==============================] - 3s 6ms/step - loss: 0.5322 - accuracy: 0.8477 - val_loss: 0.2202 - val_accuracy: 0.9368\n",
      "Epoch 17/40\n",
      "491/491 [==============================] - 3s 6ms/step - loss: 0.5370 - accuracy: 0.8501 - val_loss: 0.1631 - val_accuracy: 0.9589\n",
      "Epoch 18/40\n",
      "491/491 [==============================] - 3s 6ms/step - loss: 0.5197 - accuracy: 0.8532 - val_loss: 0.1619 - val_accuracy: 0.9565\n",
      "Epoch 19/40\n",
      "491/491 [==============================] - 3s 6ms/step - loss: 0.5236 - accuracy: 0.8564 - val_loss: 0.1321 - val_accuracy: 0.9644\n",
      "Epoch 20/40\n",
      "491/491 [==============================] - 3s 6ms/step - loss: 0.5022 - accuracy: 0.8602 - val_loss: 0.1533 - val_accuracy: 0.9584\n",
      "Epoch 21/40\n",
      "491/491 [==============================] - 3s 6ms/step - loss: 0.4943 - accuracy: 0.8648 - val_loss: 0.1397 - val_accuracy: 0.9624\n",
      "Epoch 22/40\n",
      "491/491 [==============================] - 3s 7ms/step - loss: 0.4749 - accuracy: 0.8655 - val_loss: 0.1325 - val_accuracy: 0.9634\n",
      "Epoch 23/40\n",
      "491/491 [==============================] - 3s 6ms/step - loss: 0.4986 - accuracy: 0.8666 - val_loss: 0.1099 - val_accuracy: 0.9700\n",
      "Epoch 24/40\n",
      "491/491 [==============================] - 3s 6ms/step - loss: 0.5101 - accuracy: 0.8621 - val_loss: 0.1502 - val_accuracy: 0.9579\n",
      "Epoch 25/40\n",
      "491/491 [==============================] - 3s 6ms/step - loss: 0.5175 - accuracy: 0.8638 - val_loss: 0.1308 - val_accuracy: 0.9644\n",
      "Epoch 26/40\n",
      "491/491 [==============================] - 3s 6ms/step - loss: 0.4777 - accuracy: 0.8755 - val_loss: 0.1391 - val_accuracy: 0.9592\n",
      "Epoch 27/40\n",
      "491/491 [==============================] - 3s 6ms/step - loss: 0.4691 - accuracy: 0.8750 - val_loss: 0.1283 - val_accuracy: 0.9631\n",
      "Epoch 28/40\n",
      "491/491 [==============================] - 3s 6ms/step - loss: 0.4980 - accuracy: 0.8708 - val_loss: 0.1120 - val_accuracy: 0.9682\n",
      "Epoch 29/40\n",
      "491/491 [==============================] - 3s 6ms/step - loss: 0.5089 - accuracy: 0.8693 - val_loss: 0.1084 - val_accuracy: 0.9725\n",
      "Epoch 30/40\n",
      "491/491 [==============================] - 3s 6ms/step - loss: 0.4533 - accuracy: 0.8805 - val_loss: 0.1258 - val_accuracy: 0.9700\n",
      "Epoch 31/40\n",
      "491/491 [==============================] - 3s 6ms/step - loss: 0.4542 - accuracy: 0.8816 - val_loss: 0.1445 - val_accuracy: 0.9612\n",
      "Epoch 32/40\n",
      "491/491 [==============================] - 3s 6ms/step - loss: 0.4685 - accuracy: 0.8737 - val_loss: 0.1134 - val_accuracy: 0.9716\n",
      "Epoch 33/40\n",
      "491/491 [==============================] - 3s 7ms/step - loss: 0.5243 - accuracy: 0.8626 - val_loss: 0.1078 - val_accuracy: 0.9707\n",
      "Epoch 34/40\n",
      "491/491 [==============================] - 3s 6ms/step - loss: 0.4645 - accuracy: 0.8785 - val_loss: 0.0860 - val_accuracy: 0.9777\n",
      "Epoch 35/40\n",
      "491/491 [==============================] - 3s 6ms/step - loss: 0.5183 - accuracy: 0.8690 - val_loss: 0.1572 - val_accuracy: 0.9554\n",
      "Epoch 36/40\n",
      "491/491 [==============================] - 3s 6ms/step - loss: 0.4914 - accuracy: 0.8706 - val_loss: 0.0929 - val_accuracy: 0.9764\n",
      "Epoch 37/40\n",
      "491/491 [==============================] - 3s 6ms/step - loss: 0.5364 - accuracy: 0.8677 - val_loss: 0.1403 - val_accuracy: 0.9624\n",
      "Epoch 38/40\n",
      "491/491 [==============================] - 3s 6ms/step - loss: 0.4781 - accuracy: 0.8791 - val_loss: 0.1222 - val_accuracy: 0.9662\n",
      "Epoch 39/40\n",
      "491/491 [==============================] - 4s 7ms/step - loss: 0.4691 - accuracy: 0.8800 - val_loss: 0.0939 - val_accuracy: 0.9739\n",
      "Epoch 40/40\n",
      "491/491 [==============================] - 3s 6ms/step - loss: 0.4392 - accuracy: 0.8906 - val_loss: 0.1177 - val_accuracy: 0.9674\n"
     ]
    }
   ],
   "source": [
    "#Compilation of the model\n",
    "model.compile(loss='categorical_crossentropy', optimizer='adam', metrics=['accuracy'])\n",
    "\n",
    "epochs = 40\n",
    "history = model.fit(X_train, y_train, batch_size=64, epochs=epochs, validation_data=(X_test, y_test))\n",
    "model.save(\"my_model.h5\")\n"
   ]
  },
  {
   "cell_type": "code",
   "execution_count": 10,
   "id": "aafc6de7",
   "metadata": {
    "execution": {
     "iopub.execute_input": "2022-04-04T08:20:30.898527Z",
     "iopub.status.busy": "2022-04-04T08:20:30.897835Z",
     "iopub.status.idle": "2022-04-04T08:20:30.916359Z",
     "shell.execute_reply": "2022-04-04T08:20:30.917206Z",
     "shell.execute_reply.started": "2021-12-10T06:44:52.396449Z"
    },
    "papermill": {
     "duration": 0.72028,
     "end_time": "2022-04-04T08:20:30.917465",
     "exception": false,
     "start_time": "2022-04-04T08:20:30.197185",
     "status": "completed"
    },
    "tags": []
   },
   "outputs": [
    {
     "name": "stdout",
     "output_type": "stream",
     "text": [
      "╒═════════╤════════════╤════════╤════════════════╤════════════╕\n",
      "│   Epoch │   Accuracy │   Loss │   Val Accuracy │   Val Loss │\n",
      "╞═════════╪════════════╪════════╪════════════════╪════════════╡\n",
      "│       0 │       8.73 │ 3.8547 │          26.18 │     2.8479 │\n",
      "├─────────┼────────────┼────────┼────────────────┼────────────┤\n",
      "│       1 │      29.86 │ 2.4589 │          44.12 │     1.772  │\n",
      "├─────────┼────────────┼────────┼────────────────┼────────────┤\n",
      "│       2 │      40.13 │ 1.9063 │          51.08 │     1.464  │\n",
      "├─────────┼────────────┼────────┼────────────────┼────────────┤\n",
      "│       3 │      47.17 │ 1.6098 │          60.86 │     1.1573 │\n",
      "├─────────┼────────────┼────────┼────────────────┼────────────┤\n",
      "│       4 │      54.73 │ 1.3867 │          73.26 │     0.8572 │\n",
      "├─────────┼────────────┼────────┼────────────────┼────────────┤\n",
      "│       5 │      62.81 │ 1.1593 │          80.04 │     0.6441 │\n",
      "├─────────┼────────────┼────────┼────────────────┼────────────┤\n",
      "│       6 │      69.58 │ 0.9651 │          85.25 │     0.4938 │\n",
      "├─────────┼────────────┼────────┼────────────────┼────────────┤\n",
      "│       7 │      73.12 │ 0.8678 │          88.28 │     0.3903 │\n",
      "├─────────┼────────────┼────────┼────────────────┼────────────┤\n",
      "│       8 │      76.41 │ 0.7716 │          89.03 │     0.4064 │\n",
      "├─────────┼────────────┼────────┼────────────────┼────────────┤\n",
      "│       9 │      78.75 │ 0.6954 │          91.79 │     0.3067 │\n",
      "├─────────┼────────────┼────────┼────────────────┼────────────┤\n",
      "│      10 │      79.83 │ 0.6704 │          91.47 │     0.2928 │\n",
      "├─────────┼────────────┼────────┼────────────────┼────────────┤\n",
      "│      11 │      81.77 │ 0.6135 │          93.46 │     0.2089 │\n",
      "├─────────┼────────────┼────────┼────────────────┼────────────┤\n",
      "│      12 │      82.69 │ 0.5861 │          94.39 │     0.2049 │\n",
      "├─────────┼────────────┼────────┼────────────────┼────────────┤\n",
      "│      13 │      83.92 │ 0.5478 │          93.83 │     0.1976 │\n",
      "├─────────┼────────────┼────────┼────────────────┼────────────┤\n",
      "│      14 │      83.91 │ 0.5602 │          94.91 │     0.1679 │\n",
      "├─────────┼────────────┼────────┼────────────────┼────────────┤\n",
      "│      15 │      84.46 │ 0.5479 │          93.68 │     0.2202 │\n",
      "├─────────┼────────────┼────────┼────────────────┼────────────┤\n",
      "│      16 │      84.78 │ 0.5379 │          95.89 │     0.1631 │\n",
      "├─────────┼────────────┼────────┼────────────────┼────────────┤\n",
      "│      17 │      85.73 │ 0.505  │          95.65 │     0.1619 │\n",
      "├─────────┼────────────┼────────┼────────────────┼────────────┤\n",
      "│      18 │      85.19 │ 0.5372 │          96.44 │     0.1321 │\n",
      "├─────────┼────────────┼────────┼────────────────┼────────────┤\n",
      "│      19 │      86.07 │ 0.4994 │          95.84 │     0.1533 │\n",
      "├─────────┼────────────┼────────┼────────────────┼────────────┤\n",
      "│      20 │      86.35 │ 0.5082 │          96.24 │     0.1397 │\n",
      "├─────────┼────────────┼────────┼────────────────┼────────────┤\n",
      "│      21 │      86.36 │ 0.4976 │          96.34 │     0.1325 │\n",
      "├─────────┼────────────┼────────┼────────────────┼────────────┤\n",
      "│      22 │      87.4  │ 0.4651 │          97    │     0.1099 │\n",
      "├─────────┼────────────┼────────┼────────────────┼────────────┤\n",
      "│      23 │      86.41 │ 0.5082 │          95.79 │     0.1502 │\n",
      "├─────────┼────────────┼────────┼────────────────┼────────────┤\n",
      "│      24 │      86.51 │ 0.5091 │          96.44 │     0.1308 │\n",
      "├─────────┼────────────┼────────┼────────────────┼────────────┤\n",
      "│      25 │      87.42 │ 0.4722 │          95.92 │     0.1391 │\n",
      "├─────────┼────────────┼────────┼────────────────┼────────────┤\n",
      "│      26 │      87.23 │ 0.4852 │          96.31 │     0.1283 │\n",
      "├─────────┼────────────┼────────┼────────────────┼────────────┤\n",
      "│      27 │      87.25 │ 0.4792 │          96.82 │     0.112  │\n",
      "├─────────┼────────────┼────────┼────────────────┼────────────┤\n",
      "│      28 │      87.01 │ 0.4982 │          97.25 │     0.1084 │\n",
      "├─────────┼────────────┼────────┼────────────────┼────────────┤\n",
      "│      29 │      87.8  │ 0.4749 │          97    │     0.1258 │\n",
      "├─────────┼────────────┼────────┼────────────────┼────────────┤\n",
      "│      30 │      88.08 │ 0.4537 │          96.12 │     0.1445 │\n",
      "├─────────┼────────────┼────────┼────────────────┼────────────┤\n",
      "│      31 │      87.77 │ 0.4646 │          97.16 │     0.1134 │\n",
      "├─────────┼────────────┼────────┼────────────────┼────────────┤\n",
      "│      32 │      86.84 │ 0.5016 │          97.07 │     0.1078 │\n",
      "├─────────┼────────────┼────────┼────────────────┼────────────┤\n",
      "│      33 │      88.27 │ 0.4524 │          97.77 │     0.086  │\n",
      "├─────────┼────────────┼────────┼────────────────┼────────────┤\n",
      "│      34 │      87.5  │ 0.5038 │          95.54 │     0.1572 │\n",
      "├─────────┼────────────┼────────┼────────────────┼────────────┤\n",
      "│      35 │      87.5  │ 0.486  │          97.64 │     0.0929 │\n",
      "├─────────┼────────────┼────────┼────────────────┼────────────┤\n",
      "│      36 │      87.25 │ 0.512  │          96.24 │     0.1403 │\n",
      "├─────────┼────────────┼────────┼────────────────┼────────────┤\n",
      "│      37 │      88.47 │ 0.4649 │          96.62 │     0.1222 │\n",
      "├─────────┼────────────┼────────┼────────────────┼────────────┤\n",
      "│      38 │      88.05 │ 0.4781 │          97.39 │     0.0939 │\n",
      "╘═════════╧════════════╧════════╧════════════════╧════════════╛\n"
     ]
    }
   ],
   "source": [
    "from tabulate import tabulate\n",
    "\n",
    "table=[['Epoch','Accuracy','Loss','Val Accuracy','Val Loss']]\n",
    "for i in range(epochs-1):\n",
    "    temp=[str(i)]\n",
    "    temp.append(str(float(\"{0:.4f}\".format(history.history['accuracy'][i]))*100))\n",
    "    temp.append(str(float(\"{0:.4f}\".format(history.history['loss'][i]))))\n",
    "    temp.append(str(float(\"{0:.4f}\".format(history.history['val_accuracy'][i]))*100))\n",
    "    temp.append(str(float(\"{0:.4f}\".format(history.history['val_loss'][i]))))\n",
    "    table.append(temp)\n",
    "print(tabulate(table, headers='firstrow', tablefmt='fancy_grid'))"
   ]
  },
  {
   "cell_type": "code",
   "execution_count": 11,
   "id": "86d06e87",
   "metadata": {
    "execution": {
     "iopub.execute_input": "2022-04-04T08:20:32.280804Z",
     "iopub.status.busy": "2022-04-04T08:20:32.279876Z",
     "iopub.status.idle": "2022-04-04T08:20:32.289406Z",
     "shell.execute_reply": "2022-04-04T08:20:32.290201Z",
     "shell.execute_reply.started": "2021-12-10T06:44:52.4137Z"
    },
    "papermill": {
     "duration": 0.690024,
     "end_time": "2022-04-04T08:20:32.290450",
     "exception": false,
     "start_time": "2022-04-04T08:20:31.600426",
     "status": "completed"
    },
    "tags": []
   },
   "outputs": [
    {
     "name": "stdout",
     "output_type": "stream",
     "text": [
      "╒════════════════╤════════════╤════════════════════╤════════════════╕\n",
      "│   Max Accuracy │   Min Loss │   Max Val Accuracy │   Min Val loss │\n",
      "╞════════════════╪════════════╪════════════════════╪════════════════╡\n",
      "│        88.5804 │   0.452376 │            97.7684 │      0.0872892 │\n",
      "╘════════════════╧════════════╧════════════════════╧════════════════╛\n"
     ]
    }
   ],
   "source": [
    "table2=[['Max Accuracy','Min Loss','Max Val Accuracy','Min Val loss']]\n",
    "\n",
    "temp=[str(max(history.history['accuracy'])*100),str(min(history.history['loss'])),str(max(history.history['val_accuracy'])*100),str(min(history.history['accuracy']))]\n",
    "table2.append(temp)\n",
    "\n",
    "print(tabulate(table2, headers='firstrow', tablefmt='fancy_grid'))"
   ]
  },
  {
   "cell_type": "code",
   "execution_count": 12,
   "id": "fb86e1f0",
   "metadata": {
    "execution": {
     "iopub.execute_input": "2022-04-04T08:20:33.703074Z",
     "iopub.status.busy": "2022-04-04T08:20:33.701938Z",
     "iopub.status.idle": "2022-04-04T08:20:34.542971Z",
     "shell.execute_reply": "2022-04-04T08:20:34.543507Z",
     "shell.execute_reply.started": "2021-12-10T06:44:52.426069Z"
    },
    "papermill": {
     "duration": 1.57687,
     "end_time": "2022-04-04T08:20:34.543720",
     "exception": false,
     "start_time": "2022-04-04T08:20:32.966850",
     "status": "completed"
    },
    "tags": []
   },
   "outputs": [
    {
     "data": {
      "image/png": "[encoded data removed]",
      "text/plain": [
       "<Figure size 1008x720 with 4 Axes>"
      ]
     },
     "metadata": {
      "needs_background": "light"
     },
     "output_type": "display_data"
    }
   ],
   "source": [
    "#plotting graphs for accuracy \n",
    "fig, axs = plt.subplots(2, 2,figsize=(14,10))\n",
    "axs[0, 0].plot(history.history['accuracy'], label='training accuracy')\n",
    "axs[0, 0].plot(history.history['val_accuracy'], label='val accuracy')\n",
    "axs[0, 0].set_title('Accuracy vs Val Accuracy')\n",
    "axs[0, 0].set_xlabel('epochs')\n",
    "axs[0, 0].set_ylabel('accuracy')\n",
    "\n",
    "\n",
    "\n",
    "axs[1, 0].plot(history.history['loss'], label='training loss')\n",
    "axs[1, 0].plot(history.history['val_loss'], label='val loss')\n",
    "axs[1, 0].set_title('Loss vs Val Loss')\n",
    "axs[1, 0].set_xlabel('epochs')\n",
    "axs[1, 0].set_ylabel('loss')\n",
    "\n",
    "axs[0, 1].plot(history.history['loss'], label='training loss')\n",
    "axs[0, 1].plot(history.history['accuracy'], label='trainning accuracy')\n",
    "axs[0, 1].set_title('Loss vs Accuracy')\n",
    "axs[0, 1].set_xlabel('epochs')\n",
    "axs[0, 1].set_ylabel('loss and accuracy')\n",
    "\n",
    "\n",
    "\n",
    "axs[1, 1].plot(history.history['val_accuracy'], label='val accuracy')\n",
    "axs[1, 1].plot(history.history['val_loss'], label='val loss')\n",
    "axs[1, 1].set_title('Val Loss vs Val Accuracy')\n",
    "axs[1, 1].set_xlabel('epochs')\n",
    "axs[1, 1].set_ylabel('loss and accuracy')\n",
    "\n",
    "fig.tight_layout()"
   ]
  },
  {
   "cell_type": "code",
   "execution_count": null,
   "id": "d032ca30",
   "metadata": {
    "execution": {
     "iopub.execute_input": "2021-12-10T06:44:53.155012Z",
     "iopub.status.busy": "2021-12-10T06:44:53.154697Z",
     "iopub.status.idle": "2021-12-10T06:44:53.162257Z",
     "shell.execute_reply": "2021-12-10T06:44:53.160219Z",
     "shell.execute_reply.started": "2021-12-10T06:44:53.154979Z"
    },
    "papermill": {
     "duration": 0.680161,
     "end_time": "2022-04-04T08:20:35.884415",
     "exception": false,
     "start_time": "2022-04-04T08:20:35.204254",
     "status": "completed"
    },
    "tags": []
   },
   "outputs": [],
   "source": []
  },
  {
   "cell_type": "code",
   "execution_count": null,
   "id": "bf502933",
   "metadata": {
    "execution": {
     "iopub.execute_input": "2021-12-10T06:44:53.164724Z",
     "iopub.status.busy": "2021-12-10T06:44:53.163919Z",
     "iopub.status.idle": "2021-12-10T06:44:53.180358Z",
     "shell.execute_reply": "2021-12-10T06:44:53.179416Z",
     "shell.execute_reply.started": "2021-12-10T06:44:53.164685Z"
    },
    "papermill": {
     "duration": 0.999503,
     "end_time": "2022-04-04T08:20:37.571777",
     "exception": false,
     "start_time": "2022-04-04T08:20:36.572274",
     "status": "completed"
    },
    "tags": []
   },
   "outputs": [],
   "source": []
  },
  {
   "cell_type": "code",
   "execution_count": null,
   "id": "16ad55ca",
   "metadata": {
    "execution": {
     "iopub.execute_input": "2021-12-10T06:44:53.182583Z",
     "iopub.status.busy": "2021-12-10T06:44:53.182006Z",
     "iopub.status.idle": "2021-12-10T06:44:53.191265Z",
     "shell.execute_reply": "2021-12-10T06:44:53.190235Z",
     "shell.execute_reply.started": "2021-12-10T06:44:53.182546Z"
    },
    "papermill": {
     "duration": 0.680756,
     "end_time": "2022-04-04T08:20:38.959891",
     "exception": false,
     "start_time": "2022-04-04T08:20:38.279135",
     "status": "completed"
    },
    "tags": []
   },
   "outputs": [],
   "source": []
  },
  {
   "cell_type": "code",
   "execution_count": null,
   "id": "191ee5b2",
   "metadata": {
    "execution": {
     "iopub.execute_input": "2021-12-10T06:44:53.193459Z",
     "iopub.status.busy": "2021-12-10T06:44:53.192587Z",
     "iopub.status.idle": "2021-12-10T06:44:53.909572Z",
     "shell.execute_reply": "2021-12-10T06:44:53.908729Z",
     "shell.execute_reply.started": "2021-12-10T06:44:53.193416Z"
    },
    "papermill": {
     "duration": 0.765641,
     "end_time": "2022-04-04T08:20:40.401211",
     "exception": false,
     "start_time": "2022-04-04T08:20:39.635570",
     "status": "completed"
    },
    "tags": []
   },
   "outputs": [],
   "source": []
  },
  {
   "cell_type": "code",
   "execution_count": null,
   "id": "0c5ede51",
   "metadata": {
    "papermill": {
     "duration": 0.728935,
     "end_time": "2022-04-04T08:20:42.320452",
     "exception": false,
     "start_time": "2022-04-04T08:20:41.591517",
     "status": "completed"
    },
    "tags": []
   },
   "outputs": [],
   "source": []
  },
  {
   "cell_type": "code",
   "execution_count": null,
   "id": "6f499ae8",
   "metadata": {
    "papermill": {
     "duration": 0.688521,
     "end_time": "2022-04-04T08:20:43.692188",
     "exception": false,
     "start_time": "2022-04-04T08:20:43.003667",
     "status": "completed"
    },
    "tags": []
   },
   "outputs": [],
   "source": []
  },
  {
   "cell_type": "code",
   "execution_count": null,
   "id": "26b9ec44",
   "metadata": {
    "papermill": {
     "duration": 0.691841,
     "end_time": "2022-04-04T08:20:45.078863",
     "exception": false,
     "start_time": "2022-04-04T08:20:44.387022",
     "status": "completed"
    },
    "tags": []
   },
   "outputs": [],
   "source": []
  }
 ],
 "metadata": {
  "kernelspec": {
   "display_name": "Python 3",
   "language": "python",
   "name": "python3"
  },
  "language_info": {
   "codemirror_mode": {
    "name": "ipython",
    "version": 3
   },
   "file_extension": ".py",
   "mimetype": "text/x-python",
   "name": "python",
   "nbconvert_exporter": "python",
   "pygments_lexer": "ipython3",
   "version": "3.7.10"
  },
  "papermill": {
   "default_parameters": {},
   "duration": 285.931446,
   "end_time": "2022-04-04T08:20:48.615778",
   "environment_variables": {},
   "exception": null,
   "input_path": "__notebook__.ipynb",
   "output_path": "__notebook__.ipynb",
   "parameters": {},
   "start_time": "2022-04-04T08:16:02.684332",
   "version": "2.3.3"
  }
 },
 "nbformat": 4,
 "nbformat_minor": 5
}
